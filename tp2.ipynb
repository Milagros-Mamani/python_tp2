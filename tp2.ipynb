{
 "cells": [
  {
   "cell_type": "markdown",
   "metadata": {},
   "source": [
    "EJERCICIO 1"
   ]
  },
  {
   "cell_type": "code",
   "execution_count": null,
   "metadata": {},
   "outputs": [],
   "source": [
    "copiText= \"\"\"NumPy is a community-driven open source project developed by a diverse group of contributors.The NumPy leadership \n",
    "has made a strong commitment to creating an open, inclusive, and positive community. Please read the NumPy Code of Conduct \n",
    "for guidance on how to interact with others in a way that makes our community thrive.\"\"\"\n",
    "listaOraciones= copiText.split(\".\")\n",
    "vocales=[\"a\", \"e\", \"i\", \"o\", \"u\", \"A\", \"E\", \"I\", \"O\", \"U\"]\n",
    "for elem in listaOraciones:\n",
    "     palabras= elem.split()\n",
    "     if(len(palabras)>2):\n",
    "         pal= palabras[1]                 #me figura que esta fuera de rango ;-;. \n",
    "         if(pal[0] in vocales):           #ESO ERA PORQUE SE ME GENERO UNA LISTA DE CONTENIDO \" \" LA CUAL SOLO TENIA\n",
    "             print(elem)                  #UN ELEMENTO DENTRO DE ELLA Y AL HACER PAL=PALABRAS[1] ME EXCEDIA DE SU RANGO"
   ]
  },
  {
   "cell_type": "markdown",
   "metadata": {},
   "source": [
    "EJERCICIO 2\n",
    "utilizo palabras como counter para contar la ocurrencia de las palabras\n",
    "deberia hacer un lower? si es asi, donde seria?"
   ]
  },
  {
   "cell_type": "code",
   "execution_count": null,
   "metadata": {},
   "outputs": [],
   "source": [
    "import collections\n",
    "from collections import Counter\n",
    "\n",
    "copiText= \"\"\"NumPy is a community-driven open source project developed by a diverse group of contributors.\n",
    "The NumPy leadership has made a strong commitment to creating an open, inclusive, and positive community.\n",
    "Please read the NumPy Code of Conduct for guidance on how to interact with others in a way that makes our community thrive.\"\"\"\n",
    "listaCopia= copiText.split(\".\")   #deberia usar el lower?\n",
    "palabras= Counter()\n",
    "for elem in listaCopia:\n",
    "     oracion= elem.split()\n",
    "     for palabra in oracion:\n",
    "          if (len(palabra)>4):\n",
    "               palabras[palabra]=+1"
   ]
  },
  {
   "cell_type": "code",
   "execution_count": null,
   "metadata": {},
   "outputs": [],
   "source": [
    "# PRIMERA OPCION PARA SABER LA PALABRA CON MAS OCURRENCIAS\n",
    "\n",
    "max= -1\n",
    "maxp=\"\"\n",
    "for elem in palabras:\n",
    "     if(palabras[elem]>max):\n",
    "         max=palabras[elem]\n",
    "         maxp=elem\n",
    "print(f\"La palabras con mas de 4 caracteres y con mayor ocurrencias es: {maxp} con {palabras[maxp]} ocurrencias\")"
   ]
  },
  {
   "cell_type": "code",
   "execution_count": null,
   "metadata": {},
   "outputs": [],
   "source": [
    "# SEGUNDA OPCION PARA SABER LA PALABRA CON MAS OCURRENCIAS\n",
    "\n",
    "print(palabras.most_common(1))"
   ]
  },
  {
   "cell_type": "markdown",
   "metadata": {},
   "source": [
    "EJERCICIO 3"
   ]
  },
  {
   "cell_type": "code",
   "execution_count": null,
   "metadata": {},
   "outputs": [],
   "source": [
    "import string\n",
    "\n",
    "jupyter_info = \"\"\" JupyterLab is a web-based interactive development\n",
    "environment for Jupyter notebooks, code, and data. JupyterLab is\n",
    "flexible: configure and arrange the user interface to support a wide\n",
    "range of workflows in data science, scientific computing, and machine\n",
    "learning. JupyterLab is extensible and modular: write plugins that add\n",
    "new components and integrate with existing ones. \"\"\"\n",
    "\n",
    "letra = input(print(\"ingrese una letra\"))\n",
    "if(not letra in string.ascii_letters):\n",
    "     print (\"Error, no ha ingresado una letra\")\n",
    "else:\n",
    "     lista= jupyter_info.split(\".\")\n",
    "     for elem in lista:\n",
    "         oracion= elem.split()\n",
    "         for palabra in oracion:\n",
    "             if(letra in palabra):\n",
    "                 print(palabra) "
   ]
  },
  {
   "cell_type": "markdown",
   "metadata": {},
   "source": [
    "EJERCICIO 4"
   ]
  },
  {
   "cell_type": "code",
   "execution_count": null,
   "metadata": {},
   "outputs": [],
   "source": [
    "word = input(print(\"Ingresá una palabra: \"))\n",
    "if \"a\" or \"n\" in word:\n",
    "     print(\"Hay al menos una letra a o una letra n\")\n",
    "else:\n",
    "     print(\"No hay letras a ni letra n. \")\n"
   ]
  },
  {
   "cell_type": "markdown",
   "metadata": {},
   "source": [
    "EJERCICIO 5\n",
    "listaCopia es una lista con dos elementos: el titulo y el resumen\n",
    "listaOracion es una lista con las oraciones contenidas en listaCopia[1] (el resumen)\n",
    "palabras es una lista con las palbras contenidas en cada oracion en la que me encuentro ubicado\n",
    "¿esta bien como separe la palabra \"titulo: \" del titulo?"
   ]
  },
  {
   "cell_type": "code",
   "execution_count": null,
   "metadata": {},
   "outputs": [],
   "source": [
    "import string\n",
    "import collections\n",
    "from collections import Counter\n",
    "\n",
    "article = \"\"\"título: Experiences in Developing a Distributed Agent-\n",
    "based Modeling Toolkit with Python Version 3\n",
    "resumen: Distributed agent-based modeling (ABM) on high-performance\n",
    "computing resources provides the promise of capturing unprecedented\n",
    "details of large-scale complex systems. However, the specialized\n",
    "knowledge required for developing such ABMs creates barriers to wider\n",
    "adoption and utilization. Here we present our experiences in\n",
    "developing an initial implementation of Repast4Py, a Python-based\n",
    "distributed ABM toolkit. We build on our experiences in developing ABM\n",
    "toolkits, including Repast for High Performance Computing (Repast\n",
    "HPC), to identify the key elements of a useful distributed ABM\n",
    "toolkit. We leverage the Numba, NumPy, and PyTorch packages and the\n",
    "Python C-API to create a scalable modeling system that can exploit the\n",
    "largest HPC resources and emerging computing architectures.\"\"\"\n",
    "\n",
    "listaCopia= article.split(\"resumen: \",1)\n",
    "\n",
    "# En las siguientes 3 lineas elimino \"titulo\" de listacopia[0]\n",
    "aux= str(listaCopia[0])\n",
    "aux2= aux.split(\": \")\n",
    "listaCopia[0]=aux2[1]\n",
    "\n",
    "if (len(listaCopia[0])<=10):\n",
    "     print(\"El titulo cumple con la condicion de 10 palabras como máximo\")\n",
    "else:\n",
    "     print(\"El titulo excede la cantidad de palabaras solicitadas\")\n",
    "\n",
    "listaEvaluacion= [\"facil de leer\", \"aceptable para leer\", \"dificil de leer\", \"muy dificil\"]\n",
    "evaluOracion= Counter(listaEvaluacion)\n",
    "#evaluOracion= Counter()\n",
    "listaOraciones= listaCopia[1].split(\".\")\n",
    "for oracion in listaOraciones:\n",
    "     palabras= oracion.split()\n",
    "     cantNum=0\n",
    "     for palabra in palabras:\n",
    "         if (palabra in string.octdigits):\n",
    "             cantNum+1\n",
    "                \n",
    "    #Esto es solo para saber a que categoria pertenece cada oracion\n",
    "     print(f\"la oracion tiene {len(palabras)} palabras, de las cuales {cantNum} son numeros\")\n",
    "     if ((len(palabras) - cantNum)<= 12):\n",
    "         evaluOracion[\"facil de leer\"]+=1\n",
    "     else:\n",
    "         if(13<= (len(palabras) - cantNum) <= 17):\n",
    "             evaluOracion[\"aceptable para leer\"]+=1\n",
    "         elif (18<= (len(palabras)<=25)):\n",
    "             evaluOracion[\"dificil de leer\"]+=1\n",
    "         else:\n",
    "             evaluOracion[\"muy dificil\"]+=1\n",
    "print(evaluOracion)"
   ]
  },
  {
   "cell_type": "markdown",
   "metadata": {},
   "source": [
    "EJERCICIO 6"
   ]
  },
  {
   "cell_type": "code",
   "execution_count": null,
   "metadata": {},
   "outputs": [],
   "source": [
    "import string\n",
    "\n",
    "frase = input(print(\"ingrese una frase\")).lower()\n",
    "palabra= input(print(\"ingrese una palabra\"))\n",
    "print(frase)\n",
    "listaPalabrasF= frase.split()\n",
    "cant=0\n",
    "for pal in listaPalabrasF:\n",
    "    if (pal==palabra):\n",
    "         cant+=1\n",
    "print(f\"La palabra {(palabra)} aparece {cant} veces en la frase: {frase}\")"
   ]
  },
  {
   "cell_type": "markdown",
   "metadata": {},
   "source": [
    "EJERCICIO 7"
   ]
  },
  {
   "cell_type": "code",
   "execution_count": null,
   "metadata": {},
   "outputs": [],
   "source": [
    "import string\n",
    "\n",
    "dic= {\"mayúsculas\" :0, \"minúsculas\" :0, \"caracteres\" :0, \"palabras sin distinguir\" :0}\n",
    "text = \"\"\" La brecha salarial alcanzó el 27,7%: las mujeres ocupadas\n",
    "debieron trabajar 8 días y 10 horas más que los varones ocupados para\n",
    "ganar lo mismo que ellos en un mes. \"\"\"\n",
    "lista= text.split()\n",
    "for elem in lista:\n",
    "     for letra in elem:\n",
    "         if(letra in string.ascii_uppercase):\n",
    "             dic[\"mayúsculas\"]+=1\n",
    "         else:\n",
    "             if(letra in string.ascii_lowercase):\n",
    "                 dic[\"minúsculas\"]+=1\n",
    "             elif (letra in string.punctuation):\n",
    "                 dic[\"caracteres\"]+=1\n",
    "             else:\n",
    "                 dic[\"palabras sin distinguir\"]+=1\n",
    "for elem in dic:\n",
    "    print(f\"{elem} : {dic[elem]}\")"
   ]
  },
  {
   "cell_type": "markdown",
   "metadata": {},
   "source": [
    "EJERCICIO 8\n",
    "falta completar en caso de que sea una frase porque no se que deberia evaluar en una frase heterograma, cada palabra?"
   ]
  },
  {
   "cell_type": "code",
   "execution_count": null,
   "metadata": {},
   "outputs": [],
   "source": [
    "import string\n",
    "import collections\n",
    "from collections import Counter\n",
    "\n",
    "dato= input(print(\"Ingrese una frase o una palabra\"))\n",
    "print(f\"El dato ingresada es: {dato}\")\n",
    "if (\" \" in dato):\n",
    "     print(\"Ell dato ingresado es una frase\")\n",
    "     palabras= dato.split()\n",
    "     #Tendria que ver que no se repita las letras de cada palabra?\n",
    "else:\n",
    "     cn= Counter((dato))\n",
    "     print(dato)\n",
    "     for elem in cn:\n",
    "         if (cn[elem]==1):\n",
    "             aux=True\n",
    "             continue\n",
    "         else:\n",
    "             aux= False\n",
    "             break\n",
    "print(f\"La palabra: {dato} es un heterograma\") if aux==True else print(f\"La palabra: {dato} no es un heterograma\")   "
   ]
  },
  {
   "cell_type": "markdown",
   "metadata": {},
   "source": [
    "EJERCICIO 9\n",
    "Es correcta la eleccion de la estructuras de datos?\n",
    "puedo usar condicional dentro de un march?\n",
    "Vi que un compañero uso varias funciones y yo varias estructuras para coroborar."
   ]
  },
  {
   "cell_type": "code",
   "execution_count": null,
   "metadata": {},
   "outputs": [],
   "source": [
    "palabra= input(print(\"Ingrese una palabra\"))\n",
    "\n",
    "con1=(\"A\", \"E\", \"I\", \"O\", \"U\", \"L\", \"N\", \"R\", \"S\", \"T\", \"a\", \"e\", \"i\", \"o\", \"u\", \"l\", \"n\", \"r\", \"s\", \"t\")\n",
    "con2=(\"D\", \"G\", \"d\", \"g\")\n",
    "con3=(\"B\", \"C\", \"M\", \"P\", \"b\", \"c\", \"m\", \"p\")\n",
    "con4=(\"F\", \"H\", \"V\", \"W\", \"Y\", \"f\", \"h\", \"v\", \"w\", \"y\")\n",
    "con5=(\"k\", \"K\")\n",
    "con8=(\"J\", \"X\", \"j\", \"x\")\n",
    "con10=(\"Q\", \"Z\", \"q\", \"z\")\n",
    "suma=0\n",
    "aux=True\n",
    "print(f\"La palabra ingresada es: {palabra}\")\n",
    "for letra in palabra:\n",
    "     if(letra in con1):\n",
    "         suma+=1\n",
    "     elif(letra in con2):\n",
    "         suma+=2\n",
    "     elif(letra in con3):\n",
    "         suma+=3\n",
    "     elif(letra in con4):\n",
    "         suma+=4\n",
    "     elif(letra in con5):\n",
    "         suma+=5\n",
    "     elif(letra in con8):\n",
    "         suma+=8\n",
    "     elif(letra in con10):\n",
    "         suma+=10\n",
    "     else:\n",
    "         if(len(palabra)>1):\n",
    "             print(\"ERROR, ha ingresado un caracter no valido dentro de la palabra\")\n",
    "             aux=False\n",
    "             break\n",
    "         else:\n",
    "             print(\"ERROR, ha ingresado un caracter no valido en vez de una palabra\")\n",
    "             aux=False\n",
    "             break\n",
    "if(aux):\n",
    "     print(f\"La suma de los valores de las letras de la palabra ingresada es: {suma}\")\n"
   ]
  },
  {
   "cell_type": "markdown",
   "metadata": {},
   "source": []
  }
 ],
 "metadata": {
  "kernelspec": {
   "display_name": "venv",
   "language": "python",
   "name": "python3"
  },
  "language_info": {
   "codemirror_mode": {
    "name": "ipython",
    "version": 3
   },
   "file_extension": ".py",
   "mimetype": "text/x-python",
   "name": "python",
   "nbconvert_exporter": "python",
   "pygments_lexer": "ipython3",
   "version": "3.11.6"
  }
 },
 "nbformat": 4,
 "nbformat_minor": 2
}
